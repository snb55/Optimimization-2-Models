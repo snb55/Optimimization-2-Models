{
 "cells": [
  {
   "cell_type": "markdown",
   "metadata": {},
   "source": [
    "# Introduction"
   ]
  },
  {
   "cell_type": "markdown",
   "metadata": {},
   "source": [
    "*Note: For the text answers in the notebook, you can either write them in a cell in the notebook, or write them on paper and submit them as a photo/pdf along with the notebook.*"
   ]
  },
  {
   "cell_type": "markdown",
   "metadata": {},
   "source": [
    "## Solving a small linear problem\n",
    "\n",
    "Before moving on to the main topic of this lab, which will be the transportation problem, to get you started, we will go through coding a small linear program using OR-Tools. There is also an accompanying pdf document that goes over the basics of OR-Tools in a bit more detail, using max-flow as an example. The linear program the code bellow implements is the following:\n",
    "\n",
    "<center>\n",
    "$\n",
    "\\begin{align}\n",
    "\\max&\\ 2x_1 + 2x_2 + 3x_3\\\\\n",
    "\\text{s.t.}&\\ 2x_1 + 7x_2 + 3x_3 \\le 50\\\\\n",
    "& 3x_1 - 5x_2 + 7x_3 \\le 45\\\\\n",
    "& 5x_1 + 2x_2 - 6x_3 \\le 37\\\\\n",
    "& x_1,x_2,x_3\\ge 0\n",
    "\\end{align}\n",
    "$\n",
    "    \n",
    "    \n",
    "In the comments before each line of code, we explain which part of the program is being implemented. "
   ]
  },
  {
   "cell_type": "code",
   "execution_count": 1,
   "metadata": {},
   "outputs": [
    {
     "name": "stdout",
     "output_type": "stream",
     "text": [
      "Number of variables = 3\n",
      "Number of constraints = 3\n",
      "Solution:\n",
      "Objective value = 37.39919354838709\n",
      "x[1]=  10.741935483870966\n",
      "x[2]=  2.5201612903225805\n",
      "x[3]=  3.6249999999999996\n"
     ]
    }
   ],
   "source": [
    "### Coding a linear program\n",
    "# Importing the solver that we will use for modeling/solving from OR-Tools\n",
    "from ortools.linear_solver import pywraplp\n",
    "\n",
    "# We initliaze a variable to store the solver that we will use\n",
    "# The name of the solver is GLOP\n",
    "solver = pywraplp.Solver.CreateSolver('GLOP')\n",
    "\n",
    "# Creating the three variables x1,x2,x3\n",
    "# initialize them as real variables that are greater or equal to 0(the NumVar method does that)\n",
    "# we also create a dictionary, and in each entry we store on of the variables, using the \n",
    "# indices as keys\n",
    "x = {}\n",
    "for i in range(1,4):\n",
    "    x[i] = solver.NumVar(0, solver.infinity(), 'x'+str(i))\n",
    "\n",
    "print('Number of variables =', solver.NumVariables())\n",
    "\n",
    "# Constraint: 2x_1 + 7x_2 + 3x_3 <= 50\n",
    "solver.Add(2*x[1] + 7*x[2] + 3*x[3] <= 50)\n",
    "\n",
    "# Constraint: 3x_1 - 5x_2 + 7x_3 <= 45\n",
    "solver.Add(3*x[1] - 5*x[2] + 7*x[3] <= 45)\n",
    "\n",
    "# Constraint: 5x_1 + 2x_2 - 6x_3 <= 37\n",
    "solver.Add(5*x[1] + 2*x[2] - 6*x[3] <= 37)\n",
    "\n",
    "print('Number of constraints =', solver.NumConstraints())\n",
    "\n",
    "# Objective function: maximize 2x_1 + 2x_2 + 3x_3\n",
    "solver.Maximize(2*x[1] + 2*x[2] + 3*x[3])\n",
    "\n",
    "# Solve the model created \n",
    "status = solver.Solve()\n",
    "\n",
    "# Print some information about the solution \n",
    "print('Solution:')\n",
    "print('Objective value =', solver.Objective().Value())\n",
    "for i in range(1,4):\n",
    "    print('x'+str([i])+ '= ', x[i].solution_value())\n"
   ]
  },
  {
   "cell_type": "markdown",
   "metadata": {},
   "source": [
    "## The Transportation Problem\n",
    "<br>\n",
    "In this lab, we will be introducing Google OR-Tools for python, which is an open source software package that we will be using throughout the semester to solve various optimization problems. \n",
    "<br> <br>\n",
    "For today, our focus will be on the transportation problem. In this problem, we are given a set of facilities, and our goal is to move a commodity between them, while minimizing the cost of moving those commodities. We will distinguish two types of facilities, ones that have commodity available to move to other facilities, which will be called sources, and the ones that require commodity shipped to them, which will be called destinations. In more detail, we are given:\n",
    "\n",
    "- A set $I$ of $i = 1,\\dots,m$ sources, along with supply of commodities available at source $i$, which will be denoted by $s_i$.\n",
    "- A set $J$ of $j = 1,\\dots,n$ destinations, along with the demand of commodities required at destination $j$, which will be denoted by $d_j$.\n",
    "- The cost $c_{ij}$ of moving one unit of commodity from source $i$ to destination $j$.\n",
    "\n",
    "Our goal is to move goods, so that all demands on the destinations are met, using the ammount of commodity available at sources, while minimizing the total transportation cost. One assumption that we will make, is that the total quantity of commodity available across all sources is equal to the total demand across all destinations."
   ]
  },
  {
   "cell_type": "code",
   "execution_count": 2,
   "metadata": {},
   "outputs": [],
   "source": [
    "# imports\n",
    "import pandas as pd"
   ]
  },
  {
   "cell_type": "markdown",
   "metadata": {},
   "source": [
    "Run the cell bellow to read and print an example set of data that we will use to create and solve a transportation problem model. The *Demand* row gives the amount of commodity requested at each warehouse. And the *Supply* column gives the amount of commodity available at each factory. The rest of the cells give the cost of shipping one unit of commodity from each factory to each warehouse."
   ]
  },
  {
   "cell_type": "code",
   "execution_count": 3,
   "metadata": {},
   "outputs": [
    {
     "data": {
      "text/html": [
       "<div>\n",
       "<style scoped>\n",
       "    .dataframe tbody tr th:only-of-type {\n",
       "        vertical-align: middle;\n",
       "    }\n",
       "\n",
       "    .dataframe tbody tr th {\n",
       "        vertical-align: top;\n",
       "    }\n",
       "\n",
       "    .dataframe thead th {\n",
       "        text-align: right;\n",
       "    }\n",
       "</style>\n",
       "<table border=\"1\" class=\"dataframe\">\n",
       "  <thead>\n",
       "    <tr style=\"text-align: right;\">\n",
       "      <th></th>\n",
       "      <th>Warehouse1</th>\n",
       "      <th>Warehouse2</th>\n",
       "      <th>Warehouse3</th>\n",
       "      <th>Warehouse4</th>\n",
       "      <th>Supply</th>\n",
       "    </tr>\n",
       "    <tr>\n",
       "      <th>Sources</th>\n",
       "      <th></th>\n",
       "      <th></th>\n",
       "      <th></th>\n",
       "      <th></th>\n",
       "      <th></th>\n",
       "    </tr>\n",
       "  </thead>\n",
       "  <tbody>\n",
       "    <tr>\n",
       "      <th>Factory1</th>\n",
       "      <td>12</td>\n",
       "      <td>12</td>\n",
       "      <td>15</td>\n",
       "      <td>7</td>\n",
       "      <td>50</td>\n",
       "    </tr>\n",
       "    <tr>\n",
       "      <th>Factory2</th>\n",
       "      <td>13</td>\n",
       "      <td>11</td>\n",
       "      <td>10</td>\n",
       "      <td>13</td>\n",
       "      <td>70</td>\n",
       "    </tr>\n",
       "    <tr>\n",
       "      <th>Factory3</th>\n",
       "      <td>9</td>\n",
       "      <td>6</td>\n",
       "      <td>4</td>\n",
       "      <td>12</td>\n",
       "      <td>30</td>\n",
       "    </tr>\n",
       "    <tr>\n",
       "      <th>Factory4</th>\n",
       "      <td>8</td>\n",
       "      <td>13</td>\n",
       "      <td>8</td>\n",
       "      <td>9</td>\n",
       "      <td>50</td>\n",
       "    </tr>\n",
       "    <tr>\n",
       "      <th>Demand</th>\n",
       "      <td>25</td>\n",
       "      <td>35</td>\n",
       "      <td>105</td>\n",
       "      <td>35</td>\n",
       "      <td>200</td>\n",
       "    </tr>\n",
       "  </tbody>\n",
       "</table>\n",
       "</div>"
      ],
      "text/plain": [
       "          Warehouse1  Warehouse2  Warehouse3  Warehouse4  Supply\n",
       "Sources                                                         \n",
       "Factory1          12          12          15           7      50\n",
       "Factory2          13          11          10          13      70\n",
       "Factory3           9           6           4          12      30\n",
       "Factory4           8          13           8           9      50\n",
       "Demand            25          35         105          35     200"
      ]
     },
     "metadata": {},
     "output_type": "display_data"
    }
   ],
   "source": [
    "example_data = pd.read_csv('instance1.csv', index_col = 0)\n",
    "display(example_data)"
   ]
  },
  {
   "cell_type": "markdown",
   "metadata": {},
   "source": [
    "Write down the linear program that corresponds to the transportation problem instance for the given data."
   ]
  },
  {
   "cell_type": "markdown",
   "metadata": {},
   "source": [
    "#### Answer:\n",
    "\n",
    "\\begin{equation}\n",
    "\\begin{aligned}\n",
    "& \\text{Minimize} & & \\sum_{i=1}^{m} \\sum_{j=1}^{n} c_{ij} \\cdot x_{ij} \\\\\n",
    "& \\text{Subject to} & & \\\\\n",
    "& & & \\sum_{j=1}^{n} x_{ij} \\leq s_i & \\text{for } i = 1, \\ldots, m \\\\\n",
    "& & & \\sum_{i=1}^{m} x_{ij} \\geq d_j & \\text{for } j = 1, \\ldots, n \\\\\n",
    "& & & x_{ij} \\geq 0 & \\text{for all } i, j\n",
    "\\end{aligned}\n",
    "\\end{equation}\n"
   ]
  },
  {
   "cell_type": "markdown",
   "metadata": {},
   "source": [
    "Let us now move on to creating and solving a model that uses this set of data. To do so, we will create a linear program that describes this transportation problem. We will go through the steps required to formulate and solve a linear program using Google OR-Tools, while also  giving a mathematical description of the step that we are implementing. <br> <br> \n",
    "\n",
    "In total, we will go through the following steps:\n",
    " - Create the variables.\n",
    " - Define the constraints.\n",
    " - Define the objective function.\n",
    " - Calling the solver and printing the results.\n",
    "<br>\n",
    "\n",
    " \n",
    "Before that, run the following cell to import OR-Tools and declare the solver that we will be using to solve the linear problem. 'GLOP' is the name of the solver we will be using, and while there are other solvers available, we will not be going through them now."
   ]
  },
  {
   "cell_type": "code",
   "execution_count": 11,
   "metadata": {},
   "outputs": [],
   "source": [
    "from ortools.linear_solver import pywraplp as ORTools\n",
    "lp = ORTools.Solver.CreateSolver('GLOP')"
   ]
  },
  {
   "cell_type": "markdown",
   "metadata": {},
   "source": [
    "##### Creating the Variables"
   ]
  },
  {
   "cell_type": "markdown",
   "metadata": {},
   "source": [
    "Given the set $I$ of sources and set $J$ of destinations, we will define integer variables $x_{ij}, \\forall i \\in I, j \\in J$, to denote the amount of commodity shipped from source $i$ to destination $j$. Since these variables describe the amount of commodity, we will have $x_{ij} \\ge 0, \\forall i \\in I, j \\in J$. Run the cell bellow to create the sets $I$ and $J$ from the given input data."
   ]
  },
  {
   "cell_type": "code",
   "execution_count": 6,
   "metadata": {},
   "outputs": [
    {
     "name": "stdout",
     "output_type": "stream",
     "text": [
      "['Factory1', 'Factory2', 'Factory3', 'Factory4']\n",
      "['Warehouse1', 'Warehouse2', 'Warehouse3', 'Warehouse4']\n"
     ]
    }
   ],
   "source": [
    "# notice we exclude the last row/column in each case, since it is the one name Demand/Supply\n",
    "I = list(example_data.index)[:-1]\n",
    "print(I)\n",
    "J = list(example_data.columns)[:-1]\n",
    "print(J)"
   ]
  },
  {
   "cell_type": "markdown",
   "metadata": {},
   "source": [
    "Now we can create the integer variables $x_{ij}$. The function [`IntVar(lb,ub,name)`](https://developers.google.com/optimization/reference/python/linear_solver/pywraplp?hl=en#intvar) can be used to add variables to the model, where `lb, ub` are the lower and upper bounds of the variable, and `name` the name of the variable in the OR-Tools model. \n",
    "In the cell bellow, loop over the sets $I$ and $J$ and add the variables $x_{ij}$ to the model, storing them in dictionary `x`. If a variable does not have an upper bound, you should use `lp.infinity()`. "
   ]
  },
  {
   "cell_type": "code",
   "execution_count": 12,
   "metadata": {},
   "outputs": [
    {
     "data": {
      "text/plain": [
       "{('Factory1', 'Warehouse1'): x_Factory1_Warehouse1,\n",
       " ('Factory1', 'Warehouse2'): x_Factory1_Warehouse2,\n",
       " ('Factory1', 'Warehouse3'): x_Factory1_Warehouse3,\n",
       " ('Factory1', 'Warehouse4'): x_Factory1_Warehouse4,\n",
       " ('Factory2', 'Warehouse1'): x_Factory2_Warehouse1,\n",
       " ('Factory2', 'Warehouse2'): x_Factory2_Warehouse2,\n",
       " ('Factory2', 'Warehouse3'): x_Factory2_Warehouse3,\n",
       " ('Factory2', 'Warehouse4'): x_Factory2_Warehouse4,\n",
       " ('Factory3', 'Warehouse1'): x_Factory3_Warehouse1,\n",
       " ('Factory3', 'Warehouse2'): x_Factory3_Warehouse2,\n",
       " ('Factory3', 'Warehouse3'): x_Factory3_Warehouse3,\n",
       " ('Factory3', 'Warehouse4'): x_Factory3_Warehouse4,\n",
       " ('Factory4', 'Warehouse1'): x_Factory4_Warehouse1,\n",
       " ('Factory4', 'Warehouse2'): x_Factory4_Warehouse2,\n",
       " ('Factory4', 'Warehouse3'): x_Factory4_Warehouse3,\n",
       " ('Factory4', 'Warehouse4'): x_Factory4_Warehouse4}"
      ]
     },
     "metadata": {},
     "output_type": "display_data"
    }
   ],
   "source": [
    "# Import OR-Tools and declare the solver\n",
    "from ortools.linear_solver import pywraplp as ORTools\n",
    "lp = ORTools.Solver.CreateSolver('GLOP')\n",
    "\n",
    "# Create sets I and J\n",
    "I = list(example_data.index)[:-1]\n",
    "J = list(example_data.columns)[:-1]\n",
    "\n",
    "# Create the integer variables x_ij\n",
    "x = {}  # dictionary to store the variables x_ij\n",
    "\n",
    "for i in I:\n",
    "    for j in J:\n",
    "        x[i, j] = lp.IntVar(0, lp.infinity(), f'x_{i}_{j}')\n",
    "\n",
    "# Display the variables\n",
    "display(x)\n"
   ]
  },
  {
   "cell_type": "markdown",
   "metadata": {},
   "source": [
    "##### Defining the constraints"
   ]
  },
  {
   "cell_type": "markdown",
   "metadata": {},
   "source": [
    "Recall that in the transportation problem, we want to meet the demand $d_j$ on each destinations $j$, while respecting the supply $s_i$ available at each source $i$. Run the cell bellow to create the dictionaries that will store the supply and demand of every source and destination."
   ]
  },
  {
   "cell_type": "markdown",
   "metadata": {},
   "source": [
    "*Note on how the dictionaries in the next cell are created:* The `to_dict` method will create a dictionary from a dataframe column, that has keys the indices and values the corresponding column value. We again exclude the last row/column that has Demand/Supply. In the second case, we take the transpose, since demand is stored as a row."
   ]
  },
  {
   "cell_type": "code",
   "execution_count": 13,
   "metadata": {},
   "outputs": [
    {
     "name": "stdout",
     "output_type": "stream",
     "text": [
      "{'Factory1': 50, 'Factory2': 70, 'Factory3': 30, 'Factory4': 50}\n",
      "{'Warehouse1': 25, 'Warehouse2': 35, 'Warehouse3': 105, 'Warehouse4': 35}\n"
     ]
    }
   ],
   "source": [
    "supply = example_data['Supply'][:-1].to_dict()\n",
    "print(supply)\n",
    "demand = example_data.transpose()['Demand'][:-1].to_dict()\n",
    "print(demand)"
   ]
  },
  {
   "cell_type": "markdown",
   "metadata": {},
   "source": [
    "Now the constraint that we want to add can be described as:\n",
    "\n",
    "$$ \n",
    "\\sum_{j\\in J} x_{ij} = s_i, \\forall i \\in I\n",
    "$$\n",
    "and\n",
    "$$ \n",
    "\\sum_{i\\in I} x_{ij} = d_j, \\forall j \\in J\n",
    "$$\n",
    "where the first one describes the fact that we should use the supply at every source node, and the second one that we should meet the demand in every destination node.\n",
    "<br><br>\n",
    "In the cell bellow you can find the code that adds the first constraint, using the [`Add(constraint)`](https://developers.google.com/optimization/reference/python/linear_solver/pywraplp?hl=en#add) method. Use similar code to add the second constraint."
   ]
  },
  {
   "cell_type": "code",
   "execution_count": 15,
   "metadata": {},
   "outputs": [],
   "source": [
    "# adds the supply met at sources constraint\n",
    "for i in I:\n",
    "    lp.Add(sum(x[i, j] for j in J) == supply[i])\n",
    "\n",
    "# adds the demand met at destinations constraint\n",
    "for j in J:\n",
    "    lp.Add(sum(x[i, j] for i in I) == demand[j])\n"
   ]
  },
  {
   "cell_type": "markdown",
   "metadata": {},
   "source": [
    "#### Define the objective function"
   ]
  },
  {
   "cell_type": "markdown",
   "metadata": {},
   "source": [
    "The final part before solving the model is adding the objective function. Remember that there is cost $c_{ij}$ for moving commodity from source $i$ to destination $j$, and our goal is to minimize the total cost of moving all the goods. Run the cell bellow to create the dictionary `cost` that stores the corresponding costs $c_{ij}$."
   ]
  },
  {
   "cell_type": "code",
   "execution_count": 20,
   "metadata": {},
   "outputs": [
    {
     "data": {
      "text/plain": [
       "{('Factory1', 'Warehouse1'): 12,\n",
       " ('Factory1', 'Warehouse2'): 12,\n",
       " ('Factory1', 'Warehouse3'): 15,\n",
       " ('Factory1', 'Warehouse4'): 7,\n",
       " ('Factory2', 'Warehouse1'): 13,\n",
       " ('Factory2', 'Warehouse2'): 11,\n",
       " ('Factory2', 'Warehouse3'): 10,\n",
       " ('Factory2', 'Warehouse4'): 13,\n",
       " ('Factory3', 'Warehouse1'): 9,\n",
       " ('Factory3', 'Warehouse2'): 6,\n",
       " ('Factory3', 'Warehouse3'): 4,\n",
       " ('Factory3', 'Warehouse4'): 12,\n",
       " ('Factory4', 'Warehouse1'): 8,\n",
       " ('Factory4', 'Warehouse2'): 13,\n",
       " ('Factory4', 'Warehouse3'): 8,\n",
       " ('Factory4', 'Warehouse4'): 9}"
      ]
     },
     "metadata": {},
     "output_type": "display_data"
    }
   ],
   "source": [
    "# Create the dictionary for costs\n",
    "cost = example_data.iloc[:-1, :-1].transpose().to_dict()\n",
    "cost = {(i, j): cost[i][j] for i in cost for j in cost[i]}\n",
    "\n",
    "# Display the cost dictionary\n",
    "display(cost)\n"
   ]
  },
  {
   "cell_type": "markdown",
   "metadata": {},
   "source": [
    "Since we want to minimize the total cost, the objective function will be:\n",
    "\n",
    "$$\n",
    "\\min \\sum_{i \\in I, j \\in J} c_{ij}\\cdot x_{ij}\n",
    "$$\n",
    "use the [`Minimize`](https://developers.google.com/optimization/reference/python/linear_solver/pywraplp?hl=en#minimize) method to add the objective function to the model."
   ]
  },
  {
   "cell_type": "code",
   "execution_count": 22,
   "metadata": {},
   "outputs": [],
   "source": [
    "# Minimize the total cost objective function\n",
    "lp.Minimize(lp.Sum(cost[i, j] * x[i, j] for i in I for j in J))\n"
   ]
  },
  {
   "cell_type": "markdown",
   "metadata": {},
   "source": [
    "#### Calling the solver and printing the results"
   ]
  },
  {
   "cell_type": "markdown",
   "metadata": {},
   "source": [
    "We are now ready to solve the model for the input data given. Running the cell bellow will call the [`Solve()`](https://developers.google.com/optimization/reference/python/linear_solver/pywraplp?hl=en#solve) method to solve the program. The few lines of code after that will print the objective value, as will as the variables that have value greater than 0."
   ]
  },
  {
   "cell_type": "code",
   "execution_count": 23,
   "metadata": {},
   "outputs": [
    {
     "name": "stdout",
     "output_type": "stream",
     "text": [
      "Objective value = 1665.0\n",
      "x_Factory1_Warehouse2 15\n",
      "x_Factory1_Warehouse4 35\n",
      "x_Factory2_Warehouse2 20\n",
      "x_Factory2_Warehouse3 50\n",
      "x_Factory3_Warehouse3 30\n",
      "x_Factory4_Warehouse1 25\n",
      "x_Factory4_Warehouse3 25\n"
     ]
    }
   ],
   "source": [
    "lp.Solve()\n",
    "print('Objective value =',lp.Objective().Value())\n",
    "for var in lp.variables():\n",
    "    if var.solution_value() > 0:\n",
    "        print(var.name(),round(var.solution_value()))"
   ]
  },
  {
   "cell_type": "markdown",
   "metadata": {},
   "source": [
    "We are done! By looking at the indices of the variables that are greater than zero, we can see which factory will supply which warehouse, and the amount of goods shipped. In the rest of the labs we will be coding larger models, so understanding the steps that we went throught to implement this integer program is important, as these are the basic steps one follows to code any model. <br> <br>\n",
    "\n",
    "Putting together all the constraints and objective function, the program we coded is the following:\n",
    "<center>\n",
    "$\n",
    "\\begin{align}\n",
    "\\min& \\sum_{i \\in I, j \\in J} c_{ij}\\cdot x_{ij}\\\\\n",
    "\\text{s.t.}& \\sum_{j\\in J} x_{ij} = s_i, \\forall i \\in I\\\\\n",
    "& \\sum_{i\\in I} x_{ij} = d_j, \\forall j \\in J\\\\\n",
    "& x_{ij}\\ge 0, \\text{integer},\\ \\forall i \\in I, j \\in J\n",
    "\\end{align}\n",
    "$\n",
    "    \n",
    "Something that will be usefull throughout the course is defining functions that solve programs like this one. In the cell bellow you can find a function that solves the same model you just coded. Try calling the function on the input data to confirm that you get the same solution.     "
   ]
  },
  {
   "cell_type": "code",
   "execution_count": 27,
   "metadata": {},
   "outputs": [],
   "source": [
    "def transportation_p(input_data):\n",
    "\n",
    "    lp = ORTools.Solver.CreateSolver('GLOP')\n",
    "    \n",
    "    I = list(input_data.index)[:-1]\n",
    "    J = list(input_data.columns)[:-1]\n",
    "    x = {} # dictionary to store the variables x_ij \n",
    "\n",
    "    for i in I:\n",
    "        for j in J:\n",
    "            x[i,j] = lp.IntVar(0,lp.infinity(),'x'+str([i,j]))\n",
    "            \n",
    "    for i in I:\n",
    "        lp.Add(sum(x[i,j] for j in J) == supply[i])\n",
    "    for j in J:\n",
    "        lp.Add(sum(x[i,j] for i in I) == demand[j])\n",
    "        \n",
    "    cost = example_data.iloc[:-1,:-1].transpose().to_dict()\n",
    "    cost = {(i,j) : cost[i][j] for i in cost for j in cost[i]} \n",
    "    \n",
    "    lp.Minimize(sum(cost[i,j]*x[i,j] for i in I for j in J))\n",
    "\n",
    "    lp.Solve()\n",
    "    print('Objective value =',lp.Objective().Value())\n",
    "    for var in lp.variables():\n",
    "        if var.solution_value() > 0:\n",
    "            print(var.name(),round(var.solution_value()))"
   ]
  },
  {
   "cell_type": "code",
   "execution_count": 28,
   "metadata": {},
   "outputs": [
    {
     "name": "stdout",
     "output_type": "stream",
     "text": [
      "Objective value = 1665.0\n",
      "x['Factory1', 'Warehouse2'] 15\n",
      "x['Factory1', 'Warehouse4'] 35\n",
      "x['Factory2', 'Warehouse2'] 20\n",
      "x['Factory2', 'Warehouse3'] 50\n",
      "x['Factory3', 'Warehouse3'] 30\n",
      "x['Factory4', 'Warehouse1'] 25\n",
      "x['Factory4', 'Warehouse3'] 25\n"
     ]
    }
   ],
   "source": [
    "# Call the function on the same instance you solved before\n",
    "transportation_p(example_data)"
   ]
  },
  {
   "cell_type": "markdown",
   "metadata": {},
   "source": [
    "### Question \n",
    "The transportation problem we just coded is called a *balanced* transportation problem, which means that the total demand available is equal to the total supply available. In other versions of the problem, we can have larger demand than supply, or supply larger than the demand. Suggest some ideas to solve these other versions of the problem.\n",
    "<br><br>\n",
    "\n",
    "*Hint:* You can either suggest some change in the input data or edits to the model in order to solve it as an integer program."
   ]
  },
  {
   "cell_type": "markdown",
   "metadata": {},
   "source": [
    "#### Answer:\n",
    "To handle cases where the transportation problem is unbalanced, meaning that the total supply is not equal to the total demand, you can make some adjustments to the input data or the model. Here are some suggestions:\n",
    "\n",
    "Case: Larger Demand than Supply:\n",
    "\n",
    "If the demand is greater than the supply, you can introduce a dummy source with a supply equal to the difference between demand and supply. This dummy source will have zero transportation costs to all destinations.\n",
    "You can add this dummy source to the set of sources (\n",
    "\n",
    "I) with an appropriate supply value and modify the supply constraints accordingly.\n",
    "Case: Larger Supply than Demand:\n",
    "\n",
    "If the supply is greater than the demand, you can introduce a dummy destination with a demand equal to the difference between supply and demand. This dummy destination will have zero transportation costs from all sources.\n",
    "You can add this dummy destination to the set of destinations (\n",
    "\n",
    "J) with an appropriate demand value and modify the demand constraints accordingly.\n",
    "Here's a brief modification to the code to handle the case of larger demand than supply (Case 1):"
   ]
  }
 ],
 "metadata": {
  "kernelspec": {
   "display_name": "Python 3 (ipykernel)",
   "language": "python",
   "name": "python3"
  },
  "language_info": {
   "codemirror_mode": {
    "name": "ipython",
    "version": 3
   },
   "file_extension": ".py",
   "mimetype": "text/x-python",
   "name": "python",
   "nbconvert_exporter": "python",
   "pygments_lexer": "ipython3",
   "version": "3.7.16"
  }
 },
 "nbformat": 4,
 "nbformat_minor": 4
}
